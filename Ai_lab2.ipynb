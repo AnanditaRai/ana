{
  "cells": [
    {
      "cell_type": "markdown",
      "metadata": {
        "id": "view-in-github",
        "colab_type": "text"
      },
      "source": [
        "<a href=\"https://colab.research.google.com/github/AnanditaRai/ana/blob/main/Ai_lab2.ipynb\" target=\"_parent\"><img src=\"https://colab.research.google.com/assets/colab-badge.svg\" alt=\"Open In Colab\"/></a>"
      ]
    },
    {
      "cell_type": "code",
      "execution_count": 2,
      "metadata": {
        "id": "jAB9JVvGF0zE"
      },
      "outputs": [],
      "source": [
        "import matplotlib.pyplot as plt\n",
        "import numpy as np\n",
        "import random\n",
        "from collections import deque"
      ]
    },
    {
      "cell_type": "code",
      "execution_count": null,
      "metadata": {
        "id": "fTJ5pfFcH8ax"
      },
      "outputs": [],
      "source": [
        "# To keep track of the blocks of the maze\n",
        "class Grid_Position:\n",
        "    def __init__(self, x, y):\n",
        "        self.x = x\n",
        "        self.y = y\n",
        "\n",
        "# Each block will have its own position and cost of steps taken\n",
        "class Node:\n",
        "    def __init__(self, pos: Grid_Position, cost):\n",
        "        self.pos = pos\n",
        "        self.cost = cost\n"
      ]
    },
    {
      "cell_type": "code",
      "execution_count": null,
      "metadata": {
        "id": "rs-Rm6j4ISId"
      },
      "outputs": [],
      "source": [
        "#BFS\n",
        "def bfs(Grid, dest: Grid_Position, start: Grid_Position):\n",
        "    adj_cell_x = [-1, 0, 0, 1]\n",
        "    adj_cell_y = [0, -1, 1, 0]\n",
        "    m, n = len(Grid), len(Grid[0])\n",
        "    visited_blocks = [[False for _ in range(n)] for _ in range(m)]\n",
        "    visited_blocks[start.x][start.y] = True\n",
        "    queue = deque()\n",
        "    queue.append(Node(start, 0))\n",
        "    cost = 0\n",
        "\n",
        "    while queue:\n",
        "        current_block = queue.popleft()\n",
        "        current_pos = current_block.pos\n",
        "\n",
        "        # Visualize current step\n",
        "        visualize_maze(Grid, current_pos)\n",
        "\n",
        "        if current_pos.x == dest.x and current_pos.y == dest.y:\n",
        "            print(\"Algorithm used = BFS\")\n",
        "            print(\"Path found!!\")\n",
        "            print(\"Total nodes visited = \", cost)\n",
        "            return current_block.cost\n",
        "\n",
        "        cost += 1\n",
        "        for i in range(4):\n",
        "            x_pos = current_pos.x + adj_cell_x[i]\n",
        "            y_pos = current_pos.y + adj_cell_y[i]\n",
        "            if 0 <= x_pos < m and 0 <= y_pos < n and not visited_blocks[x_pos][y_pos]:\n",
        "                if Grid[x_pos][y_pos] == 1:\n",
        "                    visited_blocks[x_pos][y_pos] = True\n",
        "                    queue.append(Node(Grid_Position(x_pos, y_pos), current_block.cost + 1))\n",
        "\n",
        "    return -1"
      ]
    },
    {
      "cell_type": "code",
      "execution_count": null,
      "metadata": {
        "id": "xH6XiaGEIR6G"
      },
      "outputs": [],
      "source": [
        "# DFS\n",
        "def dfs(Grid, dest: Grid_Position, start: Grid_Position):\n",
        "    adj_cell_x = [1, 0, 0, -1]\n",
        "    adj_cell_y = [0, 1, -1, 0]\n",
        "    m, n = len(Grid), len(Grid[0])\n",
        "    visited_blocks = [[False for _ in range(n)] for _ in range(m)]\n",
        "    visited_blocks[start.x][start.y] = True\n",
        "    stack = deque()\n",
        "    stack.append(Node(start, 0))\n",
        "    cost = 0\n",
        "\n",
        "    while stack:\n",
        "        current_block = stack.pop()\n",
        "        current_pos = current_block.pos\n",
        "\n",
        "        # Visualize current step\n",
        "        visualize_maze(Grid, current_pos)\n",
        "\n",
        "        if current_pos.x == dest.x and current_pos.y == dest.y:\n",
        "            print(\"Algorithm used = DFS\")\n",
        "            print(\"Path found!!\")\n",
        "            print(\"Total nodes visited = \", cost)\n",
        "            return current_block.cost\n",
        "\n",
        "        cost += 1\n",
        "        for i in range(4):\n",
        "            x_pos = current_pos.x + adj_cell_x[i]\n",
        "            y_pos = current_pos.y + adj_cell_y[i]\n",
        "            if 0 <= x_pos < m and 0 <= y_pos < n and not visited_blocks[x_pos][y_pos]:\n",
        "                if Grid[x_pos][y_pos] == 1:\n",
        "                    visited_blocks[x_pos][y_pos] = True\n",
        "                    stack.append(Node(Grid_Position(x_pos, y_pos), current_block.cost + 1))\n",
        "\n",
        "    return -1"
      ]
    },
    {
      "cell_type": "code",
      "execution_count": null,
      "metadata": {
        "id": "_4idH307IRjt"
      },
      "outputs": [],
      "source": [
        "\n",
        "def visualize_maze(Grid, current_pos):\n",
        "    maze = np.array(Grid)\n",
        "    plt.imshow(maze, cmap=\"binary\")\n",
        "    plt.scatter(current_pos.y, current_pos.x, color=\"red\")  # Current position\n",
        "    plt.pause(0.1)\n",
        "    plt.clf()\n",
        "\n",
        "'''# Random Maze Generator\n",
        "def generate_maze(rows, cols):\n",
        "    maze = [[random.choice([0, 1]) for _ in range(cols)] for _ in range(rows)]\n",
        "    maze[0][0] = maze[rows-1][cols-1] = 1  # Ensure start and end are open\n",
        "    return maze\n",
        "    '''\n",
        "\n",
        "\n",
        "#Random maze generator with guarenteed paths\n",
        "def generate_maze(rows, cols):\n",
        "    # Create a grid with all walls (0s)\n",
        "    maze = [[0 for _ in range(cols)] for _ in range(rows)]\n",
        "\n",
        "    # Start with a grid of walls and carve out paths using Prim's algorithm\n",
        "    start_x, start_y = 0, 0\n",
        "    maze[start_x][start_y] = 1  # Mark the start position as a path\n",
        "\n",
        "    # List of walls adjacent to paths\n",
        "    walls = [(start_x + dx, start_y + dy) for dx, dy in [(0, 1), (1, 0)] if 0 <= start_x + dx < rows and 0 <= start_y + dy < cols]\n",
        "\n",
        "    while walls:\n",
        "        # Randomly select a wall\n",
        "        wall = random.choice(walls)\n",
        "        walls.remove(wall)\n",
        "\n",
        "        wx, wy = wall\n",
        "        # Skip if this wall is already part of the maze\n",
        "        if maze[wx][wy] == 1:\n",
        "            continue\n",
        "\n",
        "        # Check neighbors\n",
        "        neighbors = [(wx + dx, wy + dy) for dx, dy in [(0, 1), (1, 0), (0, -1), (-1, 0)] if 0 <= wx + dx < rows and 0 <= wy + dy < cols]\n",
        "        path_neighbors = [n for n in neighbors if maze[n[0]][n[1]] == 1]\n",
        "\n",
        "        # If exactly one neighbor is a path, turn this wall into a path\n",
        "        if len(path_neighbors) == 1:\n",
        "            maze[wx][wy] = 1\n",
        "            # Add neighboring walls to the list\n",
        "            for dx, dy in [(0, 1), (1, 0), (0, -1), (-1, 0)]:\n",
        "                nx, ny = wx + dx, wy + dy\n",
        "                if 0 <= nx < rows and 0 <= ny < cols and maze[nx][ny] == 0:\n",
        "                    walls.append((nx, ny))\n",
        "\n",
        "    # Ensure the destination is open\n",
        "    maze[rows - 1][cols - 1] = 1\n",
        "    return maze\n",
        "    '''"
      ]
    },
    {
      "cell_type": "code",
      "execution_count": null,
      "metadata": {
        "id": "_SZgCFeoIw0R"
      },
      "outputs": [],
      "source": [
        "# Main Function with Interactive Options\n",
        "def main():\n",
        "    rows, cols = 12, 12\n",
        "    maze = generate_maze(rows, cols)\n",
        "\n",
        "    while True:\n",
        "        print(\"\\nOptions:\")\n",
        "        print(\"1. Solve using BFS\")\n",
        "        print(\"2. Solve using DFS\")\n",
        "        print(\"3. Regenerate Maze\")\n",
        "        print(\"4. Exit\")\n",
        "        choice = input(\"Enter your choice: \")\n",
        "\n",
        "        if choice == \"1\":\n",
        "            print(\"Running BFS...\")\n",
        "            visualize_maze(maze, Grid_Position(0, 0))\n",
        "            steps = bfs(maze, Grid_Position(rows-1, cols-1), Grid_Position(0, 0))\n",
        "            print(\"Shortest path steps = \", steps if steps != -1 else \"Path does not exist\")\n",
        "        elif choice == \"2\":\n",
        "            print(\"Running DFS...\")\n",
        "            visualize_maze(maze, Grid_Position(0, 0))\n",
        "            steps = dfs(maze, Grid_Position(rows-1, cols-1), Grid_Position(0, 0))\n",
        "            print(\"Steps with backtracking = \", steps if steps != -1 else \"Path does not exist\")\n",
        "        elif choice == \"3\":\n",
        "            maze = generate_maze(rows, cols)\n",
        "            print(\"Maze regenerated!\")\n",
        "        elif choice == \"4\":\n",
        "            print(\"Exiting...\")\n",
        "            break\n",
        "        else:\n",
        "            print(\"Invalid choice! Try again.\")"
      ]
    },
    {
      "cell_type": "code",
      "execution_count": null,
      "metadata": {
        "colab": {
          "background_save": true,
          "base_uri": "https://localhost:8080/",
          "height": 1000
        },
        "id": "x8vhEWeqIzqC",
        "outputId": "268dee2a-741b-465e-c981-b36c1af369ca"
      },
      "outputs": [
        {
          "name": "stdout",
          "output_type": "stream",
          "text": [
            "\n",
            "Options:\n",
            "1. Solve using BFS\n",
            "2. Solve using DFS\n",
            "3. Regenerate Maze\n",
            "4. Exit\n",
            "Running BFS...\n"
          ]
        },
        {
          "data": {
            "image/png": "[encoded data removed]",
            "text/plain": [
              "<Figure size 640x480 with 1 Axes>"
            ]
          },
          "metadata": {},
          "output_type": "display_data"
        },
        {
          "data": {
            "image/png": "[encoded data removed]",
            "text/plain": [
              "<Figure size 640x480 with 1 Axes>"
            ]
          },
          "metadata": {},
          "output_type": "display_data"
        },
        {
          "name": "stdout",
          "output_type": "stream",
          "text": [
            "Shortest path steps =  Path does not exist\n",
            "\n",
            "Options:\n",
            "1. Solve using BFS\n",
            "2. Solve using DFS\n",
            "3. Regenerate Maze\n",
            "4. Exit\n",
            "Running BFS...\n"
          ]
        },
        {
          "data": {
            "image/png": "[encoded data removed]",
            "text/plain": [
              "<Figure size 640x480 with 1 Axes>"
            ]
          },
          "metadata": {},
          "output_type": "display_data"
        },
        {
          "data": {
            "image/png": "[encoded data removed]",
            "text/plain": [
              "<Figure size 640x480 with 1 Axes>"
            ]
          },
          "metadata": {},
          "output_type": "display_data"
        },
        {
          "name": "stdout",
          "output_type": "stream",
          "text": [
            "Shortest path steps =  Path does not exist\n",
            "\n",
            "Options:\n",
            "1. Solve using BFS\n",
            "2. Solve using DFS\n",
            "3. Regenerate Maze\n",
            "4. Exit\n",
            "Running BFS...\n"
          ]
        },
        {
          "data": {
            "image/png": "[encoded data removed]",
            "text/plain": [
              "<Figure size 640x480 with 1 Axes>"
            ]
          },
          "metadata": {},
          "output_type": "display_data"
        },
        {
          "data": {
            "image/png": "[encoded data removed]",
            "text/plain": [
              "<Figure size 640x480 with 1 Axes>"
            ]
          },
          "metadata": {},
          "output_type": "display_data"
        },
        {
          "name": "stdout",
          "output_type": "stream",
          "text": [
            "Shortest path steps =  Path does not exist\n",
            "\n",
            "Options:\n",
            "1. Solve using BFS\n",
            "2. Solve using DFS\n",
            "3. Regenerate Maze\n",
            "4. Exit\n"
          ]
        }
      ],
      "source": [
        "if __name__ == '__main__':\n",
        "    main()"
      ]
    }
  ],
  "metadata": {
    "colab": {
      "provenance": [],
      "mount_file_id": "1tr6_5dfQaFn7qOcxiKY6jhiDmEzXSfQb",
      "authorship_tag": "ABX9TyM99sbe3pEXMNu3WmJA7Mzl",
      "include_colab_link": true
    },
    "kernelspec": {
      "display_name": "Python 3",
      "name": "python3"
    },
    "language_info": {
      "name": "python"
    }
  },
  "nbformat": 4,
  "nbformat_minor": 0
}